{
 "cells": [
  {
   "cell_type": "markdown",
   "metadata": {},
   "source": [
    "# Edgelist Generator\n",
    "## This script creates and edge list based on friendship inputs and changes all names to one alter denoted by 'alias_1'.\n",
    "### Created by: Karina Lopez\n",
    "### Last Updated: 05/01/2020"
   ]
  },
  {
   "cell_type": "code",
   "execution_count": 11,
   "metadata": {},
   "outputs": [
    {
     "name": "stderr",
     "output_type": "stream",
     "text": [
      "/opt/anaconda3/lib/python3.7/site-packages/ipykernel_launcher.py:10: FutureWarning: Passing a negative integer is deprecated in version 1.0 and will not be supported in future version. Instead, use None to not limit the column width.\n",
      "  # Remove the CWD from sys.path while we load stuff.\n"
     ]
    }
   ],
   "source": [
    "import pandas as pd\n",
    "import numpy as np\n",
    "import glob\n",
    "import os\n",
    "import csv\n",
    "\n",
    "#setting pandas display options\n",
    "pd.set_option('display.max_columns', None)  # or 1000\n",
    "pd.set_option('display.max_rows', None)  # or 1000\n",
    "pd.set_option('display.max_colwidth', -1)  # or 199"
   ]
  },
  {
   "cell_type": "markdown",
   "metadata": {},
   "source": [
    "# Enter the csv files you wish to generate an edge list for"
   ]
  },
  {
   "cell_type": "code",
   "execution_count": 12,
   "metadata": {},
   "outputs": [],
   "source": [
    "# NAME GENERATOR CSV| Must be in the format: dorm_wing, alias_1, dorm_friend#, outside_friend#\n",
    "network_single_df = pd.read_csv('SN1_NG3.csv')\n",
    "\n",
    "# ALIASES CSV FILE CONTAINING ALL NICKNAMES/MISSPELLINGS\n",
    "names_df = pd.read_csv('south_alias_friendship.csv')\n",
    "alias_headers_wing = list(names_df.columns)\n",
    "alias_headers_wing = alias_headers_wing[1:]\n",
    "\n",
    "#ENTER THE WING FOR THE EDGELIST\n",
    "wing = 'south'\n",
    "\n",
    "all_friend_headers = list(network_single_df.columns)\n",
    "all_friend_headers  = all_friend_headers[2:-1]\n",
    "\n",
    "#ENTER FILE OUTPUT NAME\n",
    "new_file_name = 'NG3_edgelist_south.csv'"
   ]
  },
  {
   "cell_type": "markdown",
   "metadata": {},
   "source": [
    "# Run the entire script"
   ]
  },
  {
   "cell_type": "code",
   "execution_count": 13,
   "metadata": {},
   "outputs": [
    {
     "name": "stderr",
     "output_type": "stream",
     "text": [
      "/opt/anaconda3/lib/python3.7/site-packages/ipykernel_launcher.py:6: SettingWithCopyWarning: \n",
      "A value is trying to be set on a copy of a slice from a DataFrame.\n",
      "Try using .loc[row_indexer,col_indexer] = value instead\n",
      "\n",
      "See the caveats in the documentation: https://pandas.pydata.org/pandas-docs/stable/user_guide/indexing.html#returning-a-view-versus-a-copy\n",
      "  \n"
     ]
    }
   ],
   "source": [
    "#Filter based on wing\n",
    "network_wing_df = network_single_df[(network_single_df.dorm_wing == wing)]\n",
    "\n",
    "#Lowercases everything\n",
    "for header in all_friend_headers:          \n",
    "        network_wing_df[header] = network_wing_df[header].str.lower()\n",
    "        \n",
    "network_wing_df = network_wing_df.reset_index(drop = True)"
   ]
  },
  {
   "cell_type": "code",
   "execution_count": 14,
   "metadata": {},
   "outputs": [],
   "source": [
    "wing_edgelist_dorm_df = pd.DataFrame()\n",
    "final_wing_dorm_df = pd.DataFrame()\n",
    "\n",
    "#for loop for each dorm header\n",
    "for friend_column in all_friend_headers:\n",
    "    wing_edgelist_dorm_df = pd.DataFrame()\n",
    "    list_connections = []\n",
    "\n",
    "    #for loop for each ego and alter for that column\n",
    "    for column in network_wing_df[['alias_1', str(friend_column)]]:\n",
    "        #create a series object\n",
    "        columnSeriesObj = network_wing_df[column]       \n",
    "        \n",
    "        #add alter and ego series to dataframe\n",
    "        wing_edgelist_dorm_df = wing_edgelist_dorm_df.append(columnSeriesObj)\n",
    "    \n",
    "    #create column holding repeating dorm/outside\n",
    "    list_connections.append(friend_column[0:4])\n",
    "    list_connections = list_connections * wing_edgelist_dorm_df.shape[1]\n",
    "    wing_edgelist_dorm_df.loc[len(wing_edgelist_dorm_df), :] = list_connections\n",
    "\n",
    "    #transpose dataframe and add to final edgelist\n",
    "    wing_edgelist_dorm_df = wing_edgelist_dorm_df.transpose()\n",
    "    wing_edgelist_dorm_df.columns = ['ego', 'alter', 'connection']\n",
    "    final_wing_dorm_df = final_wing_dorm_df.append(wing_edgelist_dorm_df)\n",
    "\n",
    "\n",
    "# drop all connections with NA in alter and replace outs with outside\n",
    "final_wing_dorm_df = final_wing_dorm_df.dropna()\n",
    "final_wing_dorm_df['connection'] = np.where(final_wing_dorm_df['connection'] == 'outs', 'outside', final_wing_dorm_df['connection'])\n",
    "\n",
    "# reset the index\n",
    "final_wing_dorm_df = final_wing_dorm_df.reset_index(drop = True)"
   ]
  },
  {
   "cell_type": "code",
   "execution_count": 15,
   "metadata": {},
   "outputs": [],
   "source": [
    "# remove people without nicknames\n",
    "names_df = names_df[names_df['alias_2'].notna()]\n",
    "\n",
    "#reset index\n",
    "names_df = names_df.reset_index(drop = True)"
   ]
  },
  {
   "cell_type": "code",
   "execution_count": 16,
   "metadata": {},
   "outputs": [],
   "source": [
    "#new dataframe holding only dorm or outside connections\n",
    "dorm_connections_wing = final_wing_dorm_df[(final_wing_dorm_df.connection == 'dorm')]\n",
    "dorm_connections_wing = dorm_connections_wing.reset_index(drop = True)\n",
    "\n",
    "outside_connections_wing = final_wing_dorm_df[(final_wing_dorm_df.connection == 'outside')]\n",
    "outside_connections_wing = outside_connections_wing.reset_index(drop = True)\n",
    "\n",
    "edge_list_headers = ['ego', 'alter']\n",
    "\n",
    "\n",
    "#Need to cycle through every column of the edgelist\n",
    "for column_edge in edge_list_headers:\n",
    "    #need to cycle through each alias\n",
    "    for aliases in alias_headers_wing:       \n",
    "        i = 0        \n",
    "        for i in range(names_df.shape[0]):\n",
    "            dorm_connections_wing[column_edge] = np.where(dorm_connections_wing[column_edge] == names_df.at[i, aliases], names_df.at[i, 'alias_1'], dorm_connections_wing[column_edge])\n",
    "            i += 1\n",
    "\n",
    "#bring back together the dataframe\n",
    "edge_list_wing = dorm_connections_wing.append(outside_connections_wing)\n",
    "edge_list_wing = edge_list_wing.reset_index(drop = True)"
   ]
  },
  {
   "cell_type": "code",
   "execution_count": 1,
   "metadata": {},
   "outputs": [],
   "source": [
    "#Create a csv with all the connections\n",
    "edge_list_wing.to_csv(new_file_name)"
   ]
  },
  {
   "cell_type": "code",
   "execution_count": 18,
   "metadata": {},
   "outputs": [
    {
     "name": "stdout",
     "output_type": "stream",
     "text": [
      "Done!\n"
     ]
    }
   ],
   "source": [
    "print(\"Done!\")"
   ]
  }
 ],
 "metadata": {
  "kernelspec": {
   "display_name": "Python 3",
   "language": "python",
   "name": "python3"
  },
  "language_info": {
   "codemirror_mode": {
    "name": "ipython",
    "version": 3
   },
   "file_extension": ".py",
   "mimetype": "text/x-python",
   "name": "python",
   "nbconvert_exporter": "python",
   "pygments_lexer": "ipython3",
   "version": "3.7.6"
  }
 },
 "nbformat": 4,
 "nbformat_minor": 4
}
