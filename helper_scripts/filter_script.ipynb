{
 "cells": [
  {
   "cell_type": "markdown",
   "metadata": {},
   "source": [
    "# Filters based on ids listed in filter file"
   ]
  },
  {
   "cell_type": "code",
   "execution_count": 43,
   "metadata": {},
   "outputs": [
    {
     "name": "stderr",
     "output_type": "stream",
     "text": [
      "/opt/anaconda3/lib/python3.7/site-packages/ipykernel_launcher.py:10: FutureWarning: Passing a negative integer is deprecated in version 1.0 and will not be supported in future version. Instead, use None to not limit the column width.\n",
      "  # Remove the CWD from sys.path while we load stuff.\n"
     ]
    }
   ],
   "source": [
    "import pandas as pd\n",
    "import numpy as np\n",
    "import glob\n",
    "import os\n",
    "import csv\n",
    "\n",
    "#setting pandas display options\n",
    "pd.set_option('display.max_columns', None)  # or 1000\n",
    "pd.set_option('display.max_rows', None)  # or 1000\n",
    "pd.set_option('display.max_colwidth', -1)  # or 199"
   ]
  },
  {
   "cell_type": "code",
   "execution_count": 44,
   "metadata": {},
   "outputs": [],
   "source": [
    "# enter the name of the filter file\n",
    "filter_fname = 'FINAL_filter.csv'\n",
    "\n",
    "#enter the name of the file to clean\n",
    "filter_this = 'closeness_data.csv'\n",
    "\n",
    "#enter output file name\n",
    "new_file_name = 'filtered_closeness_dataasasasasas.csv'"
   ]
  },
  {
   "cell_type": "code",
   "execution_count": 48,
   "metadata": {},
   "outputs": [],
   "source": [
    "# load the files\n",
    "to_filter_df = pd.read_csv(filter_this)\n",
    "filter_df = pd.read_csv(filter_fname)\n",
    "\n",
    "# create a filter list to iterate through\n",
    "filter_df['id'] = filter_df['id'].astype(str)\n",
    "filter_list = filter_df['id'].tolist()\n",
    "\n",
    "# filter based on id\n",
    "to_filter_df = to_filter_df[to_filter_df['id'].isin(filter_list)]\n",
    "\n",
    "to_filter_df['id'] = to_filter_df['id'].astype(str)\n",
    "\n",
    "new_df = pd.merge(to_filter_df.assign(id=to_filter_df.id.astype(str)), \n",
    "         filter_df.assign(id=filter_df.id.astype(str)), \n",
    "         how='outer', on='id')\n",
    "\n",
    "new_df.to_csv(new_file_name)"
   ]
  },
  {
   "cell_type": "code",
   "execution_count": 60,
   "metadata": {},
   "outputs": [
    {
     "name": "stdout",
     "output_type": "stream",
     "text": [
      "done!\n"
     ]
    }
   ],
   "source": [
    "print('done!')"
   ]
  },
  {
   "cell_type": "code",
   "execution_count": null,
   "metadata": {},
   "outputs": [],
   "source": []
  }
 ],
 "metadata": {
  "kernelspec": {
   "display_name": "Python 3",
   "language": "python",
   "name": "python3"
  },
  "language_info": {
   "codemirror_mode": {
    "name": "ipython",
    "version": 3
   },
   "file_extension": ".py",
   "mimetype": "text/x-python",
   "name": "python",
   "nbconvert_exporter": "python",
   "pygments_lexer": "ipython3",
   "version": "3.7.6"
  }
 },
 "nbformat": 4,
 "nbformat_minor": 4
}
