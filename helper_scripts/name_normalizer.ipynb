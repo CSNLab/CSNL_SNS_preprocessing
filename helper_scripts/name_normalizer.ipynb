{
 "cells": [
  {
   "cell_type": "code",
   "execution_count": 2,
   "metadata": {},
   "outputs": [
    {
     "name": "stderr",
     "output_type": "stream",
     "text": [
      "/opt/anaconda3/lib/python3.7/site-packages/ipykernel_launcher.py:10: FutureWarning: Passing a negative integer is deprecated in version 1.0 and will not be supported in future version. Instead, use None to not limit the column width.\n",
      "  # Remove the CWD from sys.path while we load stuff.\n"
     ]
    }
   ],
   "source": [
    "import pandas as pd\n",
    "import numpy as np\n",
    "import glob\n",
    "import os\n",
    "import csv\n",
    "\n",
    "#setting pandas display options\n",
    "pd.set_option('display.max_columns', None)  # or 1000\n",
    "pd.set_option('display.max_rows', None)  # or 1000\n",
    "pd.set_option('display.max_colwidth', -1)  # or 199"
   ]
  },
  {
   "cell_type": "code",
   "execution_count": 1,
   "metadata": {},
   "outputs": [],
   "source": [
    "#ENTER FILE CONTAINING ALL NAMES\n",
    "alias_fname = 'alias_master_north.csv'\n",
    "\n",
    "#ENTER FILE TO CHANGE NAMES\n",
    "clean_this_fname = 'closeness_dorm_north.csv'\n",
    "\n",
    "#ENTER COLUMNS TO CHANGE NAMES IN\n",
    "columns_to_change = ['alter']\n",
    "\n",
    "#ENTER NEW FILE NAME\n",
    "output_fname = 'closeness_dorm_north_fixed.csv'"
   ]
  },
  {
   "cell_type": "code",
   "execution_count": 6,
   "metadata": {},
   "outputs": [
    {
     "name": "stdout",
     "output_type": "stream",
     "text": [
      "['alias_2', 'alias_3', 'alias_4', 'alias_5', 'alias_6']\n"
     ]
    }
   ],
   "source": [
    "# save everything to a dataframe\n",
    "clean_this_df = pd.read_csv(clean_this_fname)\n",
    "\n",
    "\n",
    "alias_df = pd.read_csv(alias_fname)\n",
    "alias_headers = list(alias_df.columns)\n",
    "alias_headers = alias_headers[1:]\n",
    "print(alias_headers)"
   ]
  },
  {
   "cell_type": "code",
   "execution_count": 12,
   "metadata": {},
   "outputs": [],
   "source": [
    "#Lowercases everything\n",
    "for header in columns_to_change:\n",
    "                      clean_this_df[header] = clean_this_df[header].str.lower()"
   ]
  },
  {
   "cell_type": "code",
   "execution_count": 13,
   "metadata": {},
   "outputs": [],
   "source": [
    "# remove people without nicknames\n",
    "alias_df  = alias_df [alias_df ['alias_2'].notna()]\n",
    "\n",
    "#reset index\n",
    "alias_df  = alias_df .reset_index(drop = True)"
   ]
  },
  {
   "cell_type": "code",
   "execution_count": 14,
   "metadata": {},
   "outputs": [],
   "source": [
    "#Need to cycle through every column of the edgelist\n",
    "for column_edge in columns_to_change:\n",
    "    #need to cycle through each alias\n",
    "    for aliases in alias_headers:       \n",
    "        i = 0        \n",
    "        for i in range(alias_df.shape[0]):\n",
    "            clean_this_df[column_edge] = np.where(clean_this_df[column_edge] == alias_df.at[i, aliases], alias_df.at[i, 'alias_1'], clean_this_df[column_edge])\n",
    "            i += 1\n"
   ]
  },
  {
   "cell_type": "code",
   "execution_count": 1,
   "metadata": {},
   "outputs": [],
   "source": [
    "#Create a csv with all the connections\n",
    "clean_this_df.to_csv(output_fname, index = False)"
   ]
  },
  {
   "cell_type": "code",
   "execution_count": 16,
   "metadata": {},
   "outputs": [
    {
     "name": "stdout",
     "output_type": "stream",
     "text": [
      "Done!\n"
     ]
    }
   ],
   "source": [
    "print(\"Done!\")"
   ]
  },
  {
   "cell_type": "code",
   "execution_count": null,
   "metadata": {},
   "outputs": [],
   "source": []
  }
 ],
 "metadata": {
  "kernelspec": {
   "display_name": "Python 3",
   "language": "python",
   "name": "python3"
  },
  "language_info": {
   "codemirror_mode": {
    "name": "ipython",
    "version": 3
   },
   "file_extension": ".py",
   "mimetype": "text/x-python",
   "name": "python",
   "nbconvert_exporter": "python",
   "pygments_lexer": "ipython3",
   "version": "3.7.6"
  }
 },
 "nbformat": 4,
 "nbformat_minor": 4
}
