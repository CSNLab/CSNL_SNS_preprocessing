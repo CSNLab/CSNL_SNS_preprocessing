{
 "cells": [
  {
   "cell_type": "code",
   "execution_count": 1,
   "metadata": {},
   "outputs": [],
   "source": [
    "import pandas as pd\n",
    "import numpy as np\n",
    "import glob\n",
    "import os\n",
    "import csv"
   ]
  },
  {
   "cell_type": "code",
   "execution_count": 3,
   "metadata": {},
   "outputs": [],
   "source": [
    "# Load all dataframes\n",
    "transcriptions_fName = 'last_transcripts.csv'\n",
    "transcriptions_df = pd.read_csv(transcriptions_fName)"
   ]
  },
  {
   "cell_type": "code",
   "execution_count": 4,
   "metadata": {},
   "outputs": [],
   "source": [
    "file = 'manual_transcript_{}.txt'\n",
    "\n",
    "for index, row in transcriptions_df.iterrows():\n",
    "    with open(file.format(row[0][:-4]), 'w') as f:\n",
    "        f.write(str(row[1]))\n",
    "        f.close()"
   ]
  },
  {
   "cell_type": "markdown",
   "metadata": {},
   "source": [
    "## Merging automatic w/ manual"
   ]
  },
  {
   "cell_type": "code",
   "execution_count": 3,
   "metadata": {},
   "outputs": [],
   "source": [
    "#read transcription csvs\n",
    "\n",
    "transcriptions_df = pd.read_csv('merged_transcriptions_google_sheet.csv')\n",
    "automatic_transcripts_df = pd.read_csv('Book3.csv')"
   ]
  },
  {
   "cell_type": "code",
   "execution_count": 4,
   "metadata": {},
   "outputs": [],
   "source": [
    "new_df = pd.merge(transcriptions_df, automatic_transcripts_df,\n",
    "         how='outer', on='Audio_File_Name')\n",
    "\n",
    "new_df.to_csv('merged_transcriptions_google_sheet2.csv')"
   ]
  },
  {
   "cell_type": "code",
   "execution_count": null,
   "metadata": {},
   "outputs": [],
   "source": []
  }
 ],
 "metadata": {
  "kernelspec": {
   "display_name": "Python 3",
   "language": "python",
   "name": "python3"
  },
  "language_info": {
   "codemirror_mode": {
    "name": "ipython",
    "version": 3
   },
   "file_extension": ".py",
   "mimetype": "text/x-python",
   "name": "python",
   "nbconvert_exporter": "python",
   "pygments_lexer": "ipython3",
   "version": "3.7.6"
  }
 },
 "nbformat": 4,
 "nbformat_minor": 4
}
